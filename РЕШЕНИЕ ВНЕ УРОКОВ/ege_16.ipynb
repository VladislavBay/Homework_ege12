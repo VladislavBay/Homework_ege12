{
 "cells": [
  {
   "cell_type": "code",
   "execution_count": 2,
   "metadata": {},
   "outputs": [
    {
     "name": "stdout",
     "output_type": "stream",
     "text": [
      "1237940039285380274899124224\n"
     ]
    }
   ],
   "source": [
    "# 11480\n",
    "def f(n):\n",
    "    if n < 10:\n",
    "        return n\n",
    "    return n % 10 + 8 * f(n//10)\n",
    "print(f(10**30))\n",
    "# 1237940039285380274899124224"
   ]
  },
  {
   "cell_type": "code",
   "execution_count": 15,
   "metadata": {},
   "outputs": [
    {
     "name": "stdout",
     "output_type": "stream",
     "text": [
      "37131\n"
     ]
    }
   ],
   "source": [
    "# № 11235 \n",
    "import sys \n",
    "sys.setrecursionlimit(10000)\n",
    "def f(n):\n",
    "    if n <= 6:\n",
    "        return n\n",
    "    if n > 6:\n",
    "        return 2 * n + 3 + f(n-1)\n",
    "n = f(6188)-f(6185)\n",
    "print(n)\n",
    "# 37131"
   ]
  },
  {
   "cell_type": "code",
   "execution_count": null,
   "metadata": {},
   "outputs": [
    {
     "ename": "",
     "evalue": "",
     "output_type": "error",
     "traceback": [
      "\u001b[1;31mFailed to start the Kernel. \n",
      "\u001b[1;31mUnable to start Kernel 'Python 3.12.0' due to a connection timeout. \n",
      "\u001b[1;31mView Jupyter <a href='command:jupyter.viewOutput'>log</a> for further details."
     ]
    }
   ],
   "source": [
    "import sys\n",
    "sys.setrecursionlimit(10000)\n",
    "def f(n):\n",
    "    if n == 1:\n",
    "        return 1\n",
    "    if n == 2:\n",
    "        return 2\n",
    "    if n > 2:\n",
    "        return n * (n - 1) + f( n - 1) + f(n - 2)\n"
   ]
  }
 ],
 "metadata": {
  "kernelspec": {
   "display_name": "Python 3",
   "language": "python",
   "name": "python3"
  },
  "language_info": {
   "codemirror_mode": {
    "name": "ipython",
    "version": 3
   },
   "file_extension": ".py",
   "mimetype": "text/x-python",
   "name": "python",
   "nbconvert_exporter": "python",
   "pygments_lexer": "ipython3",
   "version": "3.12.0"
  }
 },
 "nbformat": 4,
 "nbformat_minor": 2
}
