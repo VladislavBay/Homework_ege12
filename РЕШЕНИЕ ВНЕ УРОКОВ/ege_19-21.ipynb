{
 "cells": [
  {
   "cell_type": "code",
   "execution_count": 20,
   "metadata": {},
   "outputs": [
    {
     "name": "stdout",
     "output_type": "stream",
     "text": [
      "[42, 44, 46, 48, 50, 52, 54]\n"
     ]
    }
   ],
   "source": [
    "# 13084\n",
    "\n",
    "def f(s,n):\n",
    "    if s >= 84: return n == 2 \n",
    "    if s % 2 == 0:\n",
    "        if n % 2 == 0:\n",
    "            return all([f(s +1,n+1), f(s*1.5,n+1)]) # PETYA\n",
    "        return any([f(s +1,n+1), f(s*1.5,n+1)]) # VANYA\n",
    "    if n % 2 == 0:\n",
    "        return all([f(s +1,n+1), f(s*2,n+1)])\n",
    "    return any([f(s +1,n+1), f(s*2,n+1)])\n",
    "\n",
    "p = []\n",
    "for i in range(1,83):\n",
    "    if f(i,0):\n",
    "        p.append(i)\n",
    "print(p)\n",
    "# [43, 45, 47, 49, 51, 53, 55, 56, 57, 58, 59, \n",
    "#  60, 61, 62, 63, 64, 65, 66, 67, 68, 69, 70, 71, \n",
    "#  72, 73, 74, 75, 76, 77, 78, 79, 80, 81, 82]\n",
    "\n",
    "\n",
    "# [42, 44, 46, 48, 50, 52, 54]\n",
    "\n",
    "\n",
    "#ответ 19-54\n",
    "\n",
    "# [21, 23, 25, 27, 28, 32, 36, 41,]\n",
    "# \n",
    "\n",
    "\n",
    "# ответ 20 - 2123\n",
    "\n",
    "# [24, 31, 35, 40, , , , ]\n",
    "# [, , , ]\n",
    "\n",
    "# ответ 21 - 40\n"
   ]
  },
  {
   "cell_type": "code",
   "execution_count": 5,
   "metadata": {},
   "outputs": [
    {
     "name": "stdout",
     "output_type": "stream",
     "text": [
      "[58, 59, 60]\n"
     ]
    }
   ],
   "source": [
    "# 12251\n",
    "def f(s,n):\n",
    "    if s >= 301: return n == 2\n",
    "    if n % 2 == 0:\n",
    "        return all([f(s + 3,n + 1), f(s * 5, n + 1)])\n",
    "    return any([f(s + 3,n + 1), f(s * 5, n + 1)])\n",
    "\n",
    "p = []\n",
    "for i in range(1,300):\n",
    "    if f(i,0):\n",
    "        p.append(i)\n",
    "print(p)\n",
    "\n",
    "# 19 ответ 58\n",
    "# return n == 2 -> первый ход вани\n",
    "# return n == 4 -> второй х0д вани\n",
    "# return n == 1 -> первый ход пети\n",
    "# return n == 3 -> второй х0д пети"
   ]
  },
  {
   "cell_type": "code",
   "execution_count": null,
   "metadata": {},
   "outputs": [],
   "source": [
    "# return n == 2 -> первый ход вани\n",
    "# return n == 4 -> второй х0д вани\n",
    "# return n == 1 -> первый ход пети\n",
    "# return n == 3 -> второй х0д пети"
   ]
  }
 ],
 "metadata": {
  "kernelspec": {
   "display_name": "Python 3",
   "language": "python",
   "name": "python3"
  },
  "language_info": {
   "codemirror_mode": {
    "name": "ipython",
    "version": 3
   },
   "file_extension": ".py",
   "mimetype": "text/x-python",
   "name": "python",
   "nbconvert_exporter": "python",
   "pygments_lexer": "ipython3",
   "version": "3.12.0"
  }
 },
 "nbformat": 4,
 "nbformat_minor": 2
}
