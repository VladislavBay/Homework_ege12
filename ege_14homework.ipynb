{
 "cells": [
  {
   "cell_type": "code",
   "execution_count": 12,
   "metadata": {},
   "outputs": [
    {
     "name": "stdout",
     "output_type": "stream",
     "text": [
      "368599039\n"
     ]
    }
   ],
   "source": [
    "#№ 12468 (Уровень: Базовый)\n",
    "list = []\n",
    "for x in \"0123456789ABCDEFGHI\":\n",
    "    a = int(f\"78{x}79643\", 19)\n",
    "    b = int(f\"25{x}43\",19)\n",
    "    c = int(f\"63{x}5\",19)\n",
    "    if (a+b+c)%18 == 0:\n",
    "        list.append(a+b+c)\n",
    "print(int(min(list)/18))\n"
   ]
  },
  {
   "cell_type": "code",
   "execution_count": 13,
   "metadata": {},
   "outputs": [
    {
     "name": "stdout",
     "output_type": "stream",
     "text": [
      "672\n"
     ]
    }
   ],
   "source": [
    "# № 12246 ЕГКР 16.12.23 (Уровень: Базовый)\n",
    "n = 2 * 729**333 + 2 * 243**334 - 81**335 + 2 * 27**336 - 2 * 9**337 - 338\n",
    "k = 0 \n",
    "while n > 0:\n",
    "    if n%9 > 0:\n",
    "        k +=1\n",
    "    n//=9\n",
    "print(k)"
   ]
  },
  {
   "cell_type": "code",
   "execution_count": 52,
   "metadata": {},
   "outputs": [
    {
     "name": "stdout",
     "output_type": "stream",
     "text": [
      "235\n"
     ]
    }
   ],
   "source": [
    "n = 361 * 2349**84 - 89**192 + 1953**481 * 4843**151\n",
    "\n",
    "k = 0\n",
    "while n > 0:\n",
    "    if n%9 == 5:\n",
    "        k+=1\n",
    "      \n",
    "              \n",
    "    n//=9\n",
    "print(k)"
   ]
  },
  {
   "cell_type": "code",
   "execution_count": 6,
   "metadata": {},
   "outputs": [
    {
     "name": "stdout",
     "output_type": "stream",
     "text": [
      "127775.0\n"
     ]
    }
   ],
   "source": [
    "lst = []\n",
    "for x in \"0123456789abcdefghijklmnopq\":\n",
    "\n",
    "    a = int(f\"17{x}35\",27)\n",
    "    b = int(f\"{x}742m\",27)\n",
    "    c = int(f\"{x}\",27)**3\n",
    "    if(a+b+c)%23 ==0:\n",
    "        lst.append(a+b+c)\n",
    "print(min(lst)/23)"
   ]
  },
  {
   "cell_type": "code",
   "execution_count": 8,
   "metadata": {},
   "outputs": [
    {
     "name": "stdout",
     "output_type": "stream",
     "text": [
      "27\n"
     ]
    }
   ],
   "source": [
    "print(len(\"0123456789abcdefghijklmnopr\"))"
   ]
  },
  {
   "cell_type": "code",
   "execution_count": 10,
   "metadata": {},
   "outputs": [
    {
     "name": "stdout",
     "output_type": "stream",
     "text": [
      "['a', 'b', 'c', 'd', 'e', 'f', 'g', 'h', 'i', 'j', 'k', 'l', 'm', 'n', 'o', 'p', 'q', 'r', 's', 't', 'u', 'v', 'w', 'x', 'y', 'z']\n"
     ]
    }
   ],
   "source": [
    "print(sorted(\"qwertyuiopasdfghjklzxcvbnm\"))\n"
   ]
  }
 ],
 "metadata": {
  "kernelspec": {
   "display_name": "Python 3",
   "language": "python",
   "name": "python3"
  },
  "language_info": {
   "codemirror_mode": {
    "name": "ipython",
    "version": 3
   },
   "file_extension": ".py",
   "mimetype": "text/x-python",
   "name": "python",
   "nbconvert_exporter": "python",
   "pygments_lexer": "ipython3",
   "version": "3.12.0"
  }
 },
 "nbformat": 4,
 "nbformat_minor": 2
}
