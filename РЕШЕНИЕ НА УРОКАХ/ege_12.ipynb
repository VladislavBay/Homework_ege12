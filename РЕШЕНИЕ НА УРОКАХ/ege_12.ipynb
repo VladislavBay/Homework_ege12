{
 "cells": [
  {
   "cell_type": "code",
   "execution_count": 1,
   "metadata": {},
   "outputs": [
    {
     "name": "stdout",
     "output_type": "stream",
     "text": [
      "26\n"
     ]
    }
   ],
   "source": [
    "# № 12244 ЕГКР 16.12.23 (Уровень: Базовый)\n",
    "# s = \"3\" + n * \"5\"\n",
    "lst = []\n",
    "for n in range(4,10000):\n",
    "    s = \"3\" + n * \"5\"\n",
    "    while \"333\" in s or \"555\" in s:\n",
    "        if \"555\" in s:\n",
    "            s = s.replace(\"555\", \"3\", 1)\n",
    "        else:\n",
    "            s = s.replace(\"333\", \"5\", 1)\n",
    "    \n",
    "    sm = sum(map(int,s))\n",
    "    lst.append(sm)\n",
    "print(max(lst))\n",
    "\n",
    "\n",
    "\n",
    "        \n",
    "    \n"
   ]
  },
  {
   "cell_type": "code",
   "execution_count": 4,
   "metadata": {},
   "outputs": [
    {
     "name": "stdout",
     "output_type": "stream",
     "text": [
      "10\n"
     ]
    }
   ],
   "source": [
    "# \t№ 11231 (Уровень: Средний)\n",
    "lst = []\n",
    "for n in range(3,2000):\n",
    "    s = n * \"3\" + \"5\"\n",
    "    while \"23\" in s or \"5333\" in s or \"33333\" in s:\n",
    "        if \"23\" in s:\n",
    "            s = s.replace(\"23\", \"3\", 1)\n",
    "        if \"5333\" in s:\n",
    "            s = s.replace(\"5333\", \"32\", 1)\n",
    "        if \"33333\" in s:\n",
    "            s = s.replace(\"33333\", \"55\", 1)\n",
    "    sm = sum(map(int,s))\n",
    "    lst.append(sm)\n",
    "print(min(lst))"
   ]
  },
  {
   "cell_type": "code",
   "execution_count": 37,
   "metadata": {},
   "outputs": [
    {
     "name": "stdout",
     "output_type": "stream",
     "text": [
      "36\n"
     ]
    }
   ],
   "source": [
    "\n",
    "for n in range(1,50):\n",
    "    for m in range(1,50):\n",
    "        for k in range(1,50):\n",
    "            s = \"0\" + \"1\" * n + \"2\" * m + \"3\" * k + \"0\"\n",
    "            while \"00\" not in s :\n",
    "                    \n",
    "                s = s.replace(\"01\", \"210\", 1)\n",
    "                s = s.replace(\"02\", \"320\", 1)\n",
    "                s = s.replace(\"03\", \"3012\", 1)\n",
    "            if s.count(\"1\") == 26 and s.count(\"2\") == 54 and s.count(\"3\") == 48:\n",
    "                print(2+n+m+k)  \n",
    "            #print(s)\n"
   ]
  },
  {
   "cell_type": "code",
   "execution_count": 39,
   "metadata": {},
   "outputs": [
    {
     "name": "stdout",
     "output_type": "stream",
     "text": [
      "0 0\n",
      "0 1\n",
      "0 2\n",
      "0 3\n",
      "0 4\n",
      "0 5\n",
      "0 6\n",
      "0 7\n",
      "0 8\n",
      "0 9\n",
      "1 0\n",
      "1 1\n",
      "1 2\n",
      "1 3\n",
      "1 4\n",
      "1 5\n",
      "1 6\n",
      "1 7\n",
      "1 8\n",
      "1 9\n",
      "2 0\n",
      "2 1\n",
      "2 2\n",
      "2 3\n",
      "2 4\n",
      "2 5\n",
      "2 6\n",
      "2 7\n",
      "2 8\n",
      "2 9\n",
      "3 0\n",
      "3 1\n",
      "3 2\n",
      "3 3\n",
      "3 4\n",
      "3 5\n",
      "3 6\n",
      "3 7\n",
      "3 8\n",
      "3 9\n",
      "4 0\n",
      "4 1\n",
      "4 2\n",
      "4 3\n",
      "4 4\n",
      "4 5\n",
      "4 6\n",
      "4 7\n",
      "4 8\n",
      "4 9\n",
      "5 0\n",
      "5 1\n",
      "5 2\n",
      "5 3\n",
      "5 4\n",
      "5 5\n",
      "5 6\n",
      "5 7\n",
      "5 8\n",
      "5 9\n",
      "6 0\n",
      "6 1\n",
      "6 2\n",
      "6 3\n",
      "6 4\n",
      "6 5\n",
      "6 6\n",
      "6 7\n",
      "6 8\n",
      "6 9\n",
      "7 0\n",
      "7 1\n",
      "7 2\n",
      "7 3\n",
      "7 4\n",
      "7 5\n",
      "7 6\n",
      "7 7\n",
      "7 8\n",
      "7 9\n",
      "8 0\n",
      "8 1\n",
      "8 2\n",
      "8 3\n",
      "8 4\n",
      "8 5\n",
      "8 6\n",
      "8 7\n",
      "8 8\n",
      "8 9\n",
      "9 0\n",
      "9 1\n",
      "9 2\n",
      "9 3\n",
      "9 4\n",
      "9 5\n",
      "9 6\n",
      "9 7\n",
      "9 8\n",
      "9 9\n"
     ]
    }
   ],
   "source": [
    "for a in range(0,10):\n",
    "    for b in range (0,10):\n",
    "        print(a,b)"
   ]
  }
 ],
 "metadata": {
  "kernelspec": {
   "display_name": "Python 3",
   "language": "python",
   "name": "python3"
  },
  "language_info": {
   "codemirror_mode": {
    "name": "ipython",
    "version": 3
   },
   "file_extension": ".py",
   "mimetype": "text/x-python",
   "name": "python",
   "nbconvert_exporter": "python",
   "pygments_lexer": "ipython3",
   "version": "3.12.0"
  }
 },
 "nbformat": 4,
 "nbformat_minor": 2
}
