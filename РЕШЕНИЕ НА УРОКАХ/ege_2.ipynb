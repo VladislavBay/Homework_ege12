{
 "cells": [
  {
   "cell_type": "code",
   "execution_count": 7,
   "metadata": {},
   "outputs": [
    {
     "name": "stdout",
     "output_type": "stream",
     "text": [
      "x y w z\n",
      "0 1 1 0 True\n",
      "1 1 0 0 True\n",
      "1 1 0 1 True\n"
     ]
    }
   ],
   "source": [
    "# № 12456 (Уровень: Базовый)\n",
    "#  F   =  ¬(   y→(x≡w)   )∧(z→x)\n",
    "print(\"x y w z\")\n",
    "for x in range(2):\n",
    "    for y in range(2):\n",
    "        for z in range(2):\n",
    "            for w in range(2):\n",
    "                f = ( not (y <= (x == w))  and (z <= x ) \n",
    "                if f is True:\n",
    "                    print(x,y,w,z,f)\n",
    "\n"
   ]
  },
  {
   "cell_type": "code",
   "execution_count": 3,
   "metadata": {},
   "outputs": [
    {
     "name": "stdout",
     "output_type": "stream",
     "text": [
      "x y w z\n",
      "0 0 0 1\n",
      "0 1 0 0\n",
      "1 0 0 1\n"
     ]
    }
   ],
   "source": [
    "# 12234 \n",
    "# y ∧ ( x ∨ z ) ∨ ¬ (y∨ z ) ∨ w \n",
    "print(\"x y w z\")\n",
    "for x in range(2):\n",
    "    for y in range(2):\n",
    "        for z in range(2):\n",
    "            for w in range(2):\n",
    "                # f = (y and ( x or z) or (not(y or z)) or w) \n",
    "                if (y and ( x or z) or (not(y or z)) or w) == 0 :\n",
    "                    print(x,y,w,z,)\n"
   ]
  },
  {
   "cell_type": "code",
   "execution_count": 10,
   "metadata": {},
   "outputs": [
    {
     "name": "stdout",
     "output_type": "stream",
     "text": [
      "x,y,w,z,f1,f2\n",
      "0 0 0 0 True True\n",
      "0 0 0 1 True False\n",
      "0 0 1 0 False True\n",
      "0 0 1 1 False True\n",
      "0 1 0 0 False False\n",
      "0 1 0 1 True True\n",
      "0 1 1 0 False True\n",
      "0 1 1 1 False True\n",
      "1 0 0 0 False True\n",
      "1 0 0 1 False False\n",
      "1 0 1 0 True True\n",
      "1 0 1 1 True False\n",
      "1 1 0 0 False False\n",
      "1 1 0 1 False True\n",
      "1 1 1 0 False False\n",
      "1 1 1 1 True True\n"
     ]
    }
   ],
   "source": [
    "#домашка Тип 2 № 61382\n",
    "print(\"x,y,w,z,f1,f2\")\n",
    "for x in range (2):\n",
    "    for y in range (2):\n",
    "        for w in range (2):\n",
    "            for z in range (2):\n",
    "                f1 =  ( w == x) and (y <= z )\n",
    "                f2 = (w <= x) <= (y == z)\n",
    "                # if f1 == 1:\n",
    "                print(x,y,w,z,f1,f2)\n",
    "                 \n",
    "                \n",
    "\n",
    "                    \n",
    "\n"
   ]
  },
  {
   "cell_type": "code",
   "execution_count": 12,
   "metadata": {},
   "outputs": [
    {
     "name": "stdout",
     "output_type": "stream",
     "text": [
      "x,y,z,w,f1,f2\n",
      "0 0 0 0 True True\n",
      "0 0 0 1 False False\n",
      "0 0 1 0 True False\n",
      "0 0 1 1 True True\n",
      "0 1 0 0 False True\n",
      "0 1 0 1 False False\n",
      "0 1 1 0 False False\n",
      "0 1 1 1 False True\n",
      "1 0 0 0 False True\n",
      "1 0 0 1 False True\n",
      "1 0 1 0 False True\n",
      "1 0 1 1 False True\n",
      "1 1 0 0 True True\n",
      "1 1 0 1 False False\n",
      "1 1 1 0 True False\n",
      "1 1 1 1 True True\n"
     ]
    }
   ],
   "source": [
    "#домашка н2 61348\n",
    "print(\"x,y,z,w,f1,f2\")\n",
    "for x in range (2):\n",
    "    for y in range (2):\n",
    "        for z in range (2):\n",
    "            for w in range (2):\n",
    "                f1 = (x == y) and ( w <= z)\n",
    "                f2 = (x <= y) <= (w == z)\n",
    "                print(x,y,z,w,f1,f2)\n"
   ]
  },
  {
   "cell_type": "code",
   "execution_count": 5,
   "metadata": {},
   "outputs": [
    {
     "name": "stdout",
     "output_type": "stream",
     "text": [
      "x,y,z,w\n",
      "0 0 1 1 False\n",
      "0 1 0 1 False\n",
      "1 1 0 1 False\n"
     ]
    }
   ],
   "source": [
    "#ДОМАШКА Тип 2 № 60244\n",
    "\n",
    "print(\"x,y,z,w\")\n",
    "for x in range(2):\n",
    "    for y in range(2):\n",
    "        for z in range(2):\n",
    "            for w in range(2):\n",
    "                f = bool( (x and not(y)) or ( y == z) or not(w) )\n",
    "                if  f == False:\n",
    "                    print(x,y,z,w,f)\n"
   ]
  },
  {
   "cell_type": "code",
   "execution_count": 10,
   "metadata": {},
   "outputs": [
    {
     "name": "stdout",
     "output_type": "stream",
     "text": [
      "x,y,z,w\n",
      "0 1 0 0\n",
      "1 0 1 0\n",
      "1 1 0 0\n"
     ]
    }
   ],
   "source": [
    "#Тип 2 № 59796\n",
    "print(\"x,y,z,w\")\n",
    "for x in range(2):\n",
    "    for y in range(2):\n",
    "        for z in range(2):\n",
    "            for w in range(2):\n",
    "                if ((x or y) and (y != z) and (not w)) :\n",
    "                    print(x,y,z,w)\n",
    "\n"
   ]
  },
  {
   "cell_type": "code",
   "execution_count": 12,
   "metadata": {},
   "outputs": [
    {
     "name": "stdout",
     "output_type": "stream",
     "text": [
      "x,y,z,w,u\n",
      "0 0 1 0 0\n",
      "0 0 1 0 1\n",
      "0 1 0 0 0\n",
      "0 1 0 1 0\n",
      "0 1 1 0 0\n",
      "0 1 1 0 1\n",
      "0 1 1 1 0\n",
      "1 0 0 0 0\n",
      "1 0 0 1 0\n",
      "1 0 1 0 0\n",
      "1 0 1 0 1\n",
      "1 0 1 1 0\n",
      "1 1 1 0 0\n",
      "1 1 1 0 1\n"
     ]
    }
   ],
   "source": [
    "#Тип 2 № 63051\n",
    "print(\"x,y,z,w,u\")\n",
    "for x in range(2):\n",
    "    for y in range(2):\n",
    "        for z in range(2):\n",
    "            for w in range(2):\n",
    "                 for u in range(2):\n",
    "                    if ((z<=w) and (y == (not(x))) <= (u == (y or x))) == 0:\n",
    "                        print(x,y,z,w,u)"
   ]
  },
  {
   "cell_type": "code",
   "execution_count": null,
   "metadata": {},
   "outputs": [],
   "source": [
    "#Тип 2 № 63018\n",
    "print(\"x,y,z,w,u\")\n",
    "for x in range(2):\n",
    "    for y in range(2):\n",
    "        for z in range(2):\n",
    "            for w in range(2):\n",
    "                 for u in range(2):\n",
    "                     \n",
    "\n"
   ]
  }
 ],
 "metadata": {
  "kernelspec": {
   "display_name": "Python 3",
   "language": "python",
   "name": "python3"
  },
  "language_info": {
   "codemirror_mode": {
    "name": "ipython",
    "version": 3
   },
   "file_extension": ".py",
   "mimetype": "text/x-python",
   "name": "python",
   "nbconvert_exporter": "python",
   "pygments_lexer": "ipython3",
   "version": "3.12.0"
  }
 },
 "nbformat": 4,
 "nbformat_minor": 2
}
