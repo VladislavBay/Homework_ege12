{
 "cells": [
  {
   "cell_type": "code",
   "execution_count": 1,
   "metadata": {},
   "outputs": [
    {
     "name": "stdout",
     "output_type": "stream",
     "text": [
      "163\n"
     ]
    }
   ],
   "source": [
    "# https://inf-ege.sdamgia.ru/problem?id=60247\n",
    "def f(n):\n",
    "    n_bin = bin(n)[2:]\n",
    "    if n % 3 == 0:\n",
    "        n_bin += n_bin[-3:]\n",
    "    else:\n",
    "        n2 = bin((n%3)*3)[2:]\n",
    "        n_bin += n2\n",
    "    return int(n_bin,2)  \n",
    "\n",
    "# print(f(12)) # 100\n",
    "# print(f(4)) # 19\n",
    "lst = []\n",
    "for i in range(1,1000):\n",
    "    r = f(i)\n",
    "    if r > 151:\n",
    "        lst.append(r)\n",
    "\n",
    "print(min(lst))\n",
    "    \n"
   ]
  },
  {
   "cell_type": "code",
   "execution_count": 21,
   "metadata": {},
   "outputs": [
    {
     "name": "stdout",
     "output_type": "stream",
     "text": [
      "21\n",
      "21\n",
      "23\n",
      "89\n",
      "234567\n",
      "3456\n"
     ]
    }
   ],
   "source": [
    "# slice \n",
    "st = '23456789'\n",
    "# st[start:end]\n",
    "s = st[:1]+\"1\"\n",
    "print(s)\n",
    "print(st[:1]+\"1\") # начиная со второго до конца\n",
    "print(st[:2]) # от 0 до 2 (первые 2)\n",
    "print(st[-2:]) # последние 2\n",
    "print(st[:-2]) # от начала до пред-предпоследнего\n",
    "print(st[1:5])\n",
    "\n",
    "#сумма цифр\n",
    "st = '123456789'\n",
    "s = sum(map(int,st))\n",
    "s = sum(int(elem) for elem in st)"
   ]
  },
  {
   "cell_type": "code",
   "execution_count": 10,
   "metadata": {},
   "outputs": [
    {
     "name": "stdout",
     "output_type": "stream",
     "text": [
      "45\n"
     ]
    }
   ],
   "source": [
    "st = '123456789'\n",
    "print(list(map(int,st)))\n",
    "s = 0\n",
    "for elem in st:\n",
    "    s += int(elem)\n",
    "print(s)"
   ]
  },
  {
   "cell_type": "code",
   "execution_count": 16,
   "metadata": {},
   "outputs": [
    {
     "name": "stdout",
     "output_type": "stream",
     "text": [
      "139\n"
     ]
    },
    {
     "ename": "KeyboardInterrupt",
     "evalue": "",
     "output_type": "error",
     "traceback": [
      "\u001b[1;31m---------------------------------------------------------------------------\u001b[0m",
      "\u001b[1;31mKeyboardInterrupt\u001b[0m                         Traceback (most recent call last)",
      "Cell \u001b[1;32mIn[16], line 17\u001b[0m\n\u001b[0;32m     15\u001b[0m number \u001b[38;5;241m=\u001b[39m \u001b[38;5;241m100_000\u001b[39m\n\u001b[0;32m     16\u001b[0m r \u001b[38;5;241m=\u001b[39m f(f(f(number)))\n\u001b[1;32m---> 17\u001b[0m \u001b[38;5;28;01mwhile\u001b[39;00m r \u001b[38;5;241m<\u001b[39m \u001b[38;5;241m123_456_789\u001b[39m:\n\u001b[0;32m     18\u001b[0m     number \u001b[38;5;241m+\u001b[39m\u001b[38;5;241m=\u001b[39m \u001b[38;5;241m100_000\u001b[39m\n\u001b[0;32m     19\u001b[0m \u001b[38;5;28mprint\u001b[39m(number)\n",
      "\u001b[1;31mKeyboardInterrupt\u001b[0m: "
     ]
    }
   ],
   "source": [
    "# https://inf-ege.sdamgia.ru/problem?id=56505\n",
    "def f(n):\n",
    "    n_bin = bin(n)[2:]\n",
    "    st = str(n)\n",
    "    if sum(map(int,st)) % 2 == 0:\n",
    "        n_bin += \"0\"\n",
    "    else:\n",
    "        n_bin +=\"1\"\n",
    "    return int(n_bin,2)\n",
    "\n",
    "\n",
    "print(f(f(f(17))))\n",
    "# [123_456_789; 1_987_654_321]  \n",
    "\n",
    "number = 100_000\n",
    "r = f(f(f(number)))\n",
    "while r < 123_456_789:\n",
    "    number += 100_000\n",
    "print(number)\n",
    "\n"
   ]
  },
  {
   "cell_type": "code",
   "execution_count": 2,
   "metadata": {},
   "outputs": [
    {
     "name": "stdout",
     "output_type": "stream",
     "text": [
      "139\n"
     ]
    },
    {
     "ename": "KeyboardInterrupt",
     "evalue": "",
     "output_type": "error",
     "traceback": [
      "\u001b[1;31m---------------------------------------------------------------------------\u001b[0m",
      "\u001b[1;31mKeyboardInterrupt\u001b[0m                         Traceback (most recent call last)",
      "Cell \u001b[1;32mIn[2], line 17\u001b[0m\n\u001b[0;32m     15\u001b[0m number \u001b[38;5;241m=\u001b[39m \u001b[38;5;241m100_000\u001b[39m\n\u001b[0;32m     16\u001b[0m r \u001b[38;5;241m=\u001b[39m f(f(f(number)))\n\u001b[1;32m---> 17\u001b[0m \u001b[38;5;28;01mwhile\u001b[39;00m r \u001b[38;5;241m<\u001b[39m \u001b[38;5;241m123_456_789\u001b[39m:\n\u001b[0;32m     18\u001b[0m     number \u001b[38;5;241m+\u001b[39m\u001b[38;5;241m=\u001b[39m \u001b[38;5;241m100_000\u001b[39m\n\u001b[0;32m     19\u001b[0m \u001b[38;5;28mprint\u001b[39m(number)\n",
      "\u001b[1;31mKeyboardInterrupt\u001b[0m: "
     ]
    }
   ],
   "source": [
    "# https://inf-ege.sdamgia.ru/problem?id=56505\n",
    "def f(n):\n",
    "    n_bin = bin(n)[2:]\n",
    "    st = str(n)\n",
    "    if sum(map(int,st)) % 2 == 0:\n",
    "        n_bin += \"0\"\n",
    "    else:\n",
    "        n_bin +=\"1\"\n",
    "    return int(n_bin,2)\n",
    "\n",
    "\n",
    "print(f(f(f(17))))\n",
    "# [123_456_789; 1_987_654_321]  \n",
    "\n",
    "number = 100_000\n",
    "r = f(f(f(number)))\n",
    "while r < 123_456_789:\n",
    "    number += 100_000\n",
    "print(number)\n"
   ]
  }
 ],
 "metadata": {
  "kernelspec": {
   "display_name": "Python 3",
   "language": "python",
   "name": "python3"
  },
  "language_info": {
   "codemirror_mode": {
    "name": "ipython",
    "version": 3
   },
   "file_extension": ".py",
   "mimetype": "text/x-python",
   "name": "python",
   "nbconvert_exporter": "python",
   "pygments_lexer": "ipython3",
   "version": "3.12.0"
  }
 },
 "nbformat": 4,
 "nbformat_minor": 2
}
