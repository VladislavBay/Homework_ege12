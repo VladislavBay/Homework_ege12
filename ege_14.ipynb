{
 "cells": [
  {
   "cell_type": "code",
   "execution_count": 11,
   "metadata": {},
   "outputs": [
    {
     "name": "stdout",
     "output_type": "stream",
     "text": [
      "1273A123\n",
      "224.0\n"
     ]
    }
   ],
   "source": [
    "# y04x5_11 + 253xy_8            % 117 ? x,y\n",
    "# x = 'A'\n",
    "# st = f\"1273{x}123\" # f-string, format string \n",
    "# print(st)\n",
    "lst = []\n",
    "for y in '01234567':\n",
    "    for x in '01234567':\n",
    "        a = int(f\"{y}04{x}5\",11)\n",
    "        b = int(f\"253{x}{y}\",8)\n",
    "        if (a+b) % 117 == 0:\n",
    "            lst.append(a+b)\n",
    "\n",
    "print(min(lst)/117)        "
   ]
  },
  {
   "cell_type": "code",
   "execution_count": 13,
   "metadata": {},
   "outputs": [
    {
     "name": "stdout",
     "output_type": "stream",
     "text": [
      "169.0\n"
     ]
    }
   ],
   "source": [
    "# 2y66x_9 + x0y1_12\n",
    "lst = []\n",
    "for y in \"12345678\":\n",
    "    for x in \"12345678\":\n",
    "        a = int(f\"2{y}66{x}\",9)\n",
    "        b = int(f\"{x}0{y}1\",12)\n",
    "        if (a+b) % 170 ==0:\n",
    "            lst.append(a+b)\n",
    "print(min(lst)/170)\n",
    "\n"
   ]
  }
 ],
 "metadata": {
  "kernelspec": {
   "display_name": "Python 3",
   "language": "python",
   "name": "python3"
  },
  "language_info": {
   "codemirror_mode": {
    "name": "ipython",
    "version": 3
   },
   "file_extension": ".py",
   "mimetype": "text/x-python",
   "name": "python",
   "nbconvert_exporter": "python",
   "pygments_lexer": "ipython3",
   "version": "3.12.0"
  }
 },
 "nbformat": 4,
 "nbformat_minor": 2
}
