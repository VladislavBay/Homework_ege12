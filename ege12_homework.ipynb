{
 "cells": [
  {
   "cell_type": "code",
   "execution_count": 1,
   "metadata": {},
   "outputs": [],
   "source": [
    "#  НОМЕРА  НА ДЗ 2: 8500 8470  7591  7083  6604 6019  5630*  5129* 4700*"
   ]
  },
  {
   "cell_type": "code",
   "execution_count": 6,
   "metadata": {},
   "outputs": [
    {
     "name": "stdout",
     "output_type": "stream",
     "text": [
      "18\n"
     ]
    }
   ],
   "source": [
    "# 8500\n",
    "for n in range (4,100):\n",
    "    s = \"2\" + n * \"5\"\n",
    "    while \"25\" in s or \"355\" in s or  \"555\" in s:\n",
    "        if \"25\" in s:\n",
    "            s = s.replace(\"25\", \"5\", 1)\n",
    "        if \"355\" in s:\n",
    "            s = s.replace (\"355\", \"52\", 1)\n",
    "        if \"555\" in s:\n",
    "            s = s.replace(\"555\", \"3\", 1)\n",
    "    if s.count(\"3\") ==2:\n",
    "        print(n)\n",
    "        break\n",
    "\n",
    "# правильно, на выполнение затратил 2-5 минут"
   ]
  },
  {
   "cell_type": "code",
   "execution_count": null,
   "metadata": {},
   "outputs": [],
   "source": [
    "# 8470\n",
    "lst = []\n",
    "for n in range(6,2000):\n",
    "    s = \"1\" + n * \"5\" + \"2\" + n * \"5\"\n",
    "    while \"15\" in s or \"255\" in s or \"555\" in s:\n",
    "        if \"15\" in s:\n",
    "            s = s.replace(\"15\", \"2\", 1)\n",
    "        if \"255\" in s:\n",
    "            s = s.replace(\"255\", \"1\", 1)\n",
    "        if \"555\" in s:\n",
    "            s = s.replace(\"555\", \"12\", 1)\n",
    "        sm = sum(map(int,s))\n",
    "        if sm>=100 and sm<=999:\n",
    "            lst.append(n)\n",
    "            print(max(lst))\n",
    "            # break\n",
    "# пролема в том что яне менял перебор и не видел что он упирается в 999,\n",
    "            # а так задание легкое затратил правда минут 10-15\n",
    "                                            # if sum(map(int, s)) >= 100:\n",
    "                                            #     print(n)\n",
    "                                            #     break"
   ]
  },
  {
   "cell_type": "code",
   "execution_count": 91,
   "metadata": {},
   "outputs": [
    {
     "name": "stdout",
     "output_type": "stream",
     "text": [
      "8\n",
      "14\n",
      "16\n",
      "18\n",
      "20\n",
      "22\n"
     ]
    }
   ],
   "source": [
    "lst = []\n",
    "for n in range(4,100):\n",
    "    s = \"3\" + n*\"5\"\n",
    "    while \"25\" in s or \"355\" in s or \"555\" in s:\n",
    "        if \"25\" in s:\n",
    "            s = s.replace(\"25\", \"3\", 1)\n",
    "        if \"355\" in s:\n",
    "            s = s.replace(\"355\", \"52\", 1)\n",
    "        if \"555\" in s:\n",
    "            s = s.replace(\"555\", \"23\", 1 )\n",
    "\n",
    "        if sum(map(int,s)) == 27:\n",
    "            print(n)\n",
    "            # lst.append(n)\n",
    "            # print((lst))\n",
    "            # ДОЛЖНО ВЫВОДИТСЯ 16 ПО ОТВЕТАМ, НЕ ПОНИМАЮ В ЧЕМ ПРОБЛЕМА"
   ]
  }
 ],
 "metadata": {
  "kernelspec": {
   "display_name": "Python 3",
   "language": "python",
   "name": "python3"
  },
  "language_info": {
   "codemirror_mode": {
    "name": "ipython",
    "version": 3
   },
   "file_extension": ".py",
   "mimetype": "text/x-python",
   "name": "python",
   "nbconvert_exporter": "python",
   "pygments_lexer": "ipython3",
   "version": "3.12.0"
  }
 },
 "nbformat": 4,
 "nbformat_minor": 2
}
