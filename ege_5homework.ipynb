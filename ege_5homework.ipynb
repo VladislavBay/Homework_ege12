{
 "cells": [
  {
   "cell_type": "code",
   "execution_count": 47,
   "metadata": {},
   "outputs": [],
   "source": [
    "#1*, 6, 8, 21,  28, 29, 34, 40\n"
   ]
  },
  {
   "cell_type": "code",
   "execution_count": 73,
   "metadata": {},
   "outputs": [
    {
     "ename": "TypeError",
     "evalue": "not all arguments converted during string formatting",
     "output_type": "error",
     "traceback": [
      "\u001b[1;31m---------------------------------------------------------------------------\u001b[0m",
      "\u001b[1;31mTypeError\u001b[0m                                 Traceback (most recent call last)",
      "Cell \u001b[1;32mIn[73], line 4\u001b[0m\n\u001b[0;32m      1\u001b[0m \u001b[38;5;66;03m#Тип 5 № 37140\u001b[39;00m\n\u001b[0;32m      2\u001b[0m \u001b[38;5;28;01mfor\u001b[39;00m n \u001b[38;5;129;01min\u001b[39;00m \u001b[38;5;28mrange\u001b[39m (\u001b[38;5;241m1\u001b[39m,\u001b[38;5;241m1000\u001b[39m):\n\u001b[0;32m      3\u001b[0m     \u001b[38;5;66;03m#n2 = bin(n)[2:]\u001b[39;00m\n\u001b[1;32m----> 4\u001b[0m     \u001b[38;5;28;01mif\u001b[39;00m \u001b[38;5;28;43mbin\u001b[39;49m\u001b[43m(\u001b[49m\u001b[43mn\u001b[49m\u001b[43m)\u001b[49m\u001b[43m[\u001b[49m\u001b[38;5;241;43m2\u001b[39;49m\u001b[43m:\u001b[49m\u001b[43m]\u001b[49m\u001b[38;5;241;43m%\u001b[39;49m\u001b[43m \u001b[49m\u001b[38;5;241;43m2\u001b[39;49m \u001b[38;5;241m==\u001b[39m \u001b[38;5;241m0\u001b[39m:\n\u001b[0;32m      5\u001b[0m         \u001b[38;5;28mbin\u001b[39m(n)[\u001b[38;5;241m2\u001b[39m:]  \u001b[38;5;241m=\u001b[39m \u001b[38;5;124m\"\u001b[39m\u001b[38;5;124m0\u001b[39m\u001b[38;5;124m\"\u001b[39m \u001b[38;5;241m+\u001b[39m \u001b[38;5;28mbin\u001b[39m(n)[\u001b[38;5;241m2\u001b[39m:] \u001b[38;5;241m+\u001b[39m \u001b[38;5;124m\"\u001b[39m\u001b[38;5;124m1\u001b[39m\u001b[38;5;124m\"\u001b[39m\n\u001b[0;32m      6\u001b[0m     \u001b[38;5;28;01melse\u001b[39;00m:\n",
      "\u001b[1;31mTypeError\u001b[0m: not all arguments converted during string formatting"
     ]
    }
   ],
   "source": [
    "#Тип 5 № 37140\n",
    "for n in range (1,1000):\n",
    "    #n2 = bin(n)[2:]\n",
    "    if bin(n)[2:]% 2 == 0:\n",
    "        bin(n)[2:]  = \"0\" + bin(n)[2:] + \"1\"\n",
    "    else:\n",
    "        bin(n)[2:] = \"11\" + bin(n)[2:] + \"11\"\n",
    "        r = int(n,2)\n",
    "if r > 52:\n",
    "    print(r)\n",
    "         \n",
    "         \n",
    "        "
   ]
  },
  {
   "cell_type": "code",
   "execution_count": 24,
   "metadata": {},
   "outputs": [
    {
     "name": "stdout",
     "output_type": "stream",
     "text": [
      "58\n",
      "None\n"
     ]
    }
   ],
   "source": [
    "#Тип 5 № 63054\n",
    "# def f(n):\n",
    "#     n_bin = bin(n)[2:]\n",
    "#     st = str(n_bin)\n",
    "#     r = (n_bin%4) + st\n",
    "#     print(int(r,2))\n",
    "    \n",
    "# print(f(13))\n",
    "n_count = []\n",
    "def f(n):\n",
    "    n1 = bin(n)[2:] + bin(n%4)[2:]\n",
    "    r = int(n1,2)\n",
    "\n",
    "    print(r)\n",
    "n_max = 0\n",
    "for i in range (100000):\n",
    "    n_max = max(n_max , sum(n_count[]))\n",
    "#print(f(14))\n",
    "\n",
    "\n",
    "\n"
   ]
  },
  {
   "cell_type": "code",
   "execution_count": 27,
   "metadata": {},
   "outputs": [
    {
     "name": "stdout",
     "output_type": "stream",
     "text": [
      "9\n"
     ]
    }
   ],
   "source": [
    "#6 Тип 5 № 59828\n",
    "def f(n):\n",
    "    s=''\n",
    "    while n>0:\n",
    "        s+=str(n%3)\n",
    "        n//=3\n",
    "    return s[::-1]\n",
    "for i in range(1,10000):\n",
    "    s = f(i)\n",
    "    if i%3 ==0:\n",
    "        s+=s[-3:]\n",
    "    else:\n",
    "        s+= f((i%3)*3)\n",
    "    s = int(s,3)\n",
    "    if s > 150:\n",
    "        print(i)\n",
    "        break\n",
    "    \n",
    "    \n",
    "\n",
    "\n",
    "        \n"
   ]
  },
  {
   "cell_type": "code",
   "execution_count": 31,
   "metadata": {},
   "outputs": [
    {
     "name": "stdout",
     "output_type": "stream",
     "text": [
      "8\n"
     ]
    }
   ],
   "source": [
    "#Тип 5 № 59798\n",
    "def f(n):\n",
    "    s=''\n",
    "    while n>0:\n",
    "        s+=str(n%3)\n",
    "        n//=3\n",
    "    return s[::-1]\n",
    "for i in range(1,1000):\n",
    "    s = f(i)\n",
    "    if i%3 != 0:\n",
    "        s += f((i%3)*5)\n",
    "    s = int(s,3)\n",
    "    if s > 146:\n",
    "        print(i)\n",
    "        break\n",
    "    \n",
    "\n",
    "\n"
   ]
  },
  {
   "cell_type": "code",
   "execution_count": 79,
   "metadata": {},
   "outputs": [
    {
     "name": "stdout",
     "output_type": "stream",
     "text": [
      "17\n"
     ]
    }
   ],
   "source": [
    "#Тип 5 № 51974\n",
    "ddef f(n):\n",
    "for n in range(17,18):\n",
    "    n_bin = bin(n)[2:]\n",
    "    st = str(n)\n",
    "    if sum(map(int,st)) % 2 == 0:\n",
    "        n_bin += \"0\"\n",
    "    else:\n",
    "        n_bin += \"1\"\n",
    "\n",
    "    # 5.  Результатом работы алгоритма становится десятичная запись полученного числа R.\n",
    "\n",
    "    # r = int(n_bin,2) # n_bin - 2 запись\n",
    "    # # r = int(n_bin) # n_bin - 10 запись\n",
    "    # if r > 1028:\n",
    "    #     print(r)\n",
    "\n",
    "\n",
    "\n",
    "\n",
    "\n",
    "\n"
   ]
  }
 ],
 "metadata": {
  "kernelspec": {
   "display_name": "Python 3",
   "language": "python",
   "name": "python3"
  },
  "language_info": {
   "codemirror_mode": {
    "name": "ipython",
    "version": 3
   },
   "file_extension": ".py",
   "mimetype": "text/x-python",
   "name": "python",
   "nbconvert_exporter": "python",
   "pygments_lexer": "ipython3",
   "version": "3.12.0"
  }
 },
 "nbformat": 4,
 "nbformat_minor": 2
}
