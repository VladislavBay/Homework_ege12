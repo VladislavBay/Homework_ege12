{
 "cells": [
  {
   "cell_type": "code",
   "execution_count": 4,
   "metadata": {},
   "outputs": [
    {
     "name": "stdout",
     "output_type": "stream",
     "text": [
      "62820.0\n"
     ]
    }
   ],
   "source": [
    "# 37151 решу егэ\n",
    "def f(n):\n",
    "    if n <= 1:\n",
    "        return 0\n",
    "    if n > 1 and n%2 != 0:\n",
    "        return f(n-1) + 3*n**2\n",
    "    if n > 1 and n % 2 == 0:\n",
    "        return n/2 + f(n-1) + 2\n",
    "print(f(49))\n",
    "# 62829"
   ]
  },
  {
   "cell_type": "code",
   "execution_count": 5,
   "metadata": {},
   "outputs": [
    {
     "name": "stdout",
     "output_type": "stream",
     "text": [
      "8266912626.0\n"
     ]
    }
   ],
   "source": [
    "# 47220\n",
    "def f(n):\n",
    "    if n ==1:\n",
    "        return 1\n",
    "    if n > 1:\n",
    "        return n * f(n-1)\n",
    "print(f(2023)/f(2020))\n",
    "# 8266912626"
   ]
  },
  {
   "cell_type": "code",
   "execution_count": 18,
   "metadata": {},
   "outputs": [
    {
     "name": "stdout",
     "output_type": "stream",
     "text": [
      "4122\n"
     ]
    }
   ],
   "source": [
    "# 38591\n",
    "# def f(n):\n",
    "#     if n % 2 ==0:\n",
    "#         return n + f(n-1)\n",
    "#     if n > 1 and n %2 != 0:\n",
    "#         return 2 * f(n-2)\n",
    "# print(f(26))\n",
    "\n",
    "def f(n):\n",
    "    if n == 1:\n",
    "        return 1\n",
    "    if n % 2 == 0:\n",
    "        return n + f(n-1)\n",
    "    if n > 1 and n % 2 !=0:\n",
    "        return f(n-2) * 2\n",
    "print(f(26))\n",
    "\n",
    "\n",
    "# 4122"
   ]
  },
  {
   "cell_type": "code",
   "execution_count": 20,
   "metadata": {},
   "outputs": [
    {
     "name": "stdout",
     "output_type": "stream",
     "text": [
      "4090506.0\n"
     ]
    }
   ],
   "source": [
    "# 60258\n",
    "def f(n):\n",
    "    if n > 2024:\n",
    "        return n\n",
    "    if n <= 2024:\n",
    "        return n * f(n + 1)\n",
    "print(f(2022)/f(2024))\n",
    "# 4090506"
   ]
  },
  {
   "cell_type": "code",
   "execution_count": 36,
   "metadata": {},
   "outputs": [
    {
     "name": "stdout",
     "output_type": "stream",
     "text": [
      "7\n"
     ]
    }
   ],
   "source": [
    "# 58228\n",
    "def f(n):\n",
    "    if n == 1:\n",
    "        return 1\n",
    "    if n == 2:\n",
    "        return 2\n",
    "    if n > 2 and n % 2 == 0:\n",
    "        return int((4 * n - f(n - 3))/8)\n",
    "    if n > 2 and n % 2 != 0:\n",
    "        return int((4 * n - f(n-1) + f(n-2))/8)\n",
    "print(f(52)-f(38))\n",
    "# 7"
   ]
  },
  {
   "cell_type": "code",
   "execution_count": 3,
   "metadata": {},
   "outputs": [
    {
     "ename": "KeyboardInterrupt",
     "evalue": "",
     "output_type": "error",
     "traceback": [
      "\u001b[1;31m---------------------------------------------------------------------------\u001b[0m",
      "\u001b[1;31mKeyboardInterrupt\u001b[0m                         Traceback (most recent call last)",
      "Cell \u001b[1;32mIn[3], line 16\u001b[0m\n\u001b[0;32m     14\u001b[0m count \u001b[38;5;241m=\u001b[39m \u001b[38;5;241m0\u001b[39m\n\u001b[0;32m     15\u001b[0m \u001b[38;5;28;01mfor\u001b[39;00m n \u001b[38;5;129;01min\u001b[39;00m \u001b[38;5;28mrange\u001b[39m (\u001b[38;5;241m4\u001b[39m\u001b[38;5;241m*\u001b[39m\u001b[38;5;241m6\u001b[39m\u001b[38;5;241m*\u001b[39m\u001b[38;5;241m*\u001b[39m\u001b[38;5;241m20\u001b[39m, \u001b[38;5;241m5\u001b[39m \u001b[38;5;241m*\u001b[39m \u001b[38;5;241m6\u001b[39m\u001b[38;5;241m*\u001b[39m\u001b[38;5;241m*\u001b[39m\u001b[38;5;241m20\u001b[39m):\n\u001b[1;32m---> 16\u001b[0m     \u001b[38;5;28;01mif\u001b[39;00m \u001b[43mf\u001b[49m\u001b[43m(\u001b[49m\u001b[43mn\u001b[49m\u001b[43m)\u001b[49m \u001b[38;5;241m==\u001b[39m \u001b[38;5;241m121\u001b[39m:\n\u001b[0;32m     17\u001b[0m         count \u001b[38;5;241m+\u001b[39m\u001b[38;5;241m=\u001b[39m \u001b[38;5;241m1\u001b[39m\n\u001b[0;32m     18\u001b[0m \u001b[38;5;28mprint\u001b[39m(count)\n",
      "Cell \u001b[1;32mIn[3], line 8\u001b[0m, in \u001b[0;36mf\u001b[1;34m(n)\u001b[0m\n\u001b[0;32m      4\u001b[0m \u001b[38;5;28;01mimport\u001b[39;00m \u001b[38;5;21;01msys\u001b[39;00m\n\u001b[0;32m      5\u001b[0m sys\u001b[38;5;241m.\u001b[39msetrecursionlimit(\u001b[38;5;241m1000\u001b[39m)\n\u001b[1;32m----> 8\u001b[0m \u001b[38;5;129m@lru_cache\u001b[39m(\u001b[38;5;28;01mNone\u001b[39;00m)\n\u001b[0;32m      9\u001b[0m \u001b[38;5;28;01mdef\u001b[39;00m \u001b[38;5;21mf\u001b[39m(n):\n\u001b[0;32m     10\u001b[0m     \u001b[38;5;28;01mif\u001b[39;00m n \u001b[38;5;241m<\u001b[39m \u001b[38;5;241m9\u001b[39m:\n\u001b[0;32m     11\u001b[0m         \u001b[38;5;28;01mreturn\u001b[39;00m n\n",
      "\u001b[1;31mKeyboardInterrupt\u001b[0m: "
     ]
    }
   ],
   "source": [
    "# 62470\n",
    "from functools import lru_cache\n",
    " \n",
    "import sys\n",
    "sys.setrecursionlimit(10000)\n",
    "\n",
    "\n",
    "@lru_cache(None)\n",
    "def f(n):\n",
    "    if n < 9:\n",
    "        return n\n",
    "    if n >=9:\n",
    "        return f (n % 9) + f(n / 9)\n",
    "count = 0\n",
    "for n in range (4*6**20, 5 * 6**20):\n",
    "    if f(n) == 121:\n",
    "        count += 1\n",
    "print(count)"
   ]
  },
  {
   "cell_type": "code",
   "execution_count": 1,
   "metadata": {},
   "outputs": [
    {
     "name": "stdout",
     "output_type": "stream",
     "text": [
      "-27\n"
     ]
    }
   ],
   "source": [
    "# 12779 https://kompege.ru/task\n",
    "\n",
    "\n",
    "def f(n):\n",
    "    # global x \n",
    "    if n >= 3000:\n",
    "        return n\n",
    "    if n < 3000:\n",
    "        return n + x + f(n + 2)\n",
    "for x in range(-100000,1000000):\n",
    "    if f(2984) - f(2988) == 5916:\n",
    "        print(x)\n",
    "        "
   ]
  }
 ],
 "metadata": {
  "kernelspec": {
   "display_name": "Python 3",
   "language": "python",
   "name": "python3"
  },
  "language_info": {
   "codemirror_mode": {
    "name": "ipython",
    "version": 3
   },
   "file_extension": ".py",
   "mimetype": "text/x-python",
   "name": "python",
   "nbconvert_exporter": "python",
   "pygments_lexer": "ipython3",
   "version": "3.12.0"
  }
 },
 "nbformat": 4,
 "nbformat_minor": 2
}
