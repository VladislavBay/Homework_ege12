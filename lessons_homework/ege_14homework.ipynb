{
 "cells": [
  {
   "cell_type": "code",
   "execution_count": null,
   "metadata": {},
   "outputs": [],
   "source": [
    "#№ 12468 (Уровень: Базовый)\n",
    "list = []\n",
    "for x in \"0123456789ABCDEFGHI\":\n",
    "    a = int(f\"78{x}79643\", 19)\n",
    "    b = int(f\"25{x}43\",19)\n",
    "    c = int(f\"63{x}5\",19)\n",
    "    if (a+b+c)%18 == 0:\n",
    "        list.append(a+b+c)\n",
    "print(int(min(list)/18))\n"
   ]
  },
  {
   "cell_type": "code",
   "execution_count": null,
   "metadata": {},
   "outputs": [],
   "source": [
    "# № 12246 ЕГКР 16.12.23 (Уровень: Базовый)\n",
    "n = 2 * 729**333 + 2 * 243**334 - 81**335 + 2 * 27**336 - 2 * 9**337 - 338\n",
    "k = 0 \n",
    "while n > 0:\n",
    "    if n%9 > 0:\n",
    "        k +=1\n",
    "    n//=9\n",
    "print(k)"
   ]
  },
  {
   "cell_type": "code",
   "execution_count": null,
   "metadata": {},
   "outputs": [],
   "source": [
    "n = 361 * 2349**84 - 89**192 + 1953**481 * 4843**151\n",
    "\n",
    "k = 0\n",
    "while n > 0:\n",
    "    if n%9 == 5:\n",
    "        k+=1\n",
    "      \n",
    "              \n",
    "    n//=9\n",
    "print(k)"
   ]
  },
  {
   "cell_type": "code",
   "execution_count": null,
   "metadata": {},
   "outputs": [],
   "source": [
    "lst = []\n",
    "for x in \"0123456789abcdefghijklmnopq\":\n",
    "\n",
    "    a = int(f\"17{x}35\",27)\n",
    "    b = int(f\"{x}742m\",27)\n",
    "    c = int(f\"{x}\",27)**3\n",
    "    if(a+b+c)%23 ==0:\n",
    "        lst.append(a+b+c)\n",
    "print(min(lst)/23)"
   ]
  },
  {
   "cell_type": "code",
   "execution_count": null,
   "metadata": {},
   "outputs": [],
   "source": [
    "print(len(\"0123456789abcdefghijklmnopr\"))"
   ]
  },
  {
   "cell_type": "code",
   "execution_count": null,
   "metadata": {},
   "outputs": [],
   "source": [
    "print(sorted(\"qwertyuiopasdfghjklzxcvbnm\"))\n",
    "print(bin(10)[2:])"
   ]
  },
  {
   "cell_type": "code",
   "execution_count": null,
   "metadata": {},
   "outputs": [],
   "source": [
    "# 12923\n",
    "s1 = 3 * 3125**9 + 2 * 625**8 - 4 * 625**7 + 3 * 125**6 - 2 * 25**5 - 2024\n",
    "count = 0\n",
    "while s1 != 0:\n",
    "    d = s1 % 25\n",
    "    if d == 0:\n",
    "        count += 1\n",
    "    s1//=25\n",
    "print(count)\n"
   ]
  },
  {
   "cell_type": "code",
   "execution_count": null,
   "metadata": {},
   "outputs": [],
   "source": [
    "\t\n",
    "# № 386 (Уровень: Средний)\n",
    "# Значение арифметического выражения: N25 – 2N13 + 10 записали в системе счисления с основанием N. Определите основание системы счисления, \n",
    "# если известно, что сумма разрядов в числе, представленном в этой системе счисления, равна 75?\n",
    "\n",
    "def trans_to_10(number: list, base: int) -> int:  # переводит из любой с.с. в 10 с.с.\n",
    "    s = 0\n",
    "    number = number[::-1]\n",
    "    for i in range(len(number)): \n",
    "        s += number[i] * base ** i\n",
    "    return s\n",
    "\n",
    "def trans10_to_any_base(number: int, base: int)->list:\n",
    "    result = []\n",
    "    while number > 0:\n",
    "        result.append(number % base)\n",
    "        number = number // base\n",
    "    return result[::-1]\n",
    "\n",
    "print(trans_to_10([1,0,1,0],2))\n",
    "print(trans10_to_any_base(10,2))\n",
    "\n",
    "for n in range(6,100):\n",
    "    a = trans_to_10([n],n) ** trans_to_10([2,5],n)\n",
    "        \n",
    "\n"
   ]
  },
  {
   "cell_type": "code",
   "execution_count": null,
   "metadata": {},
   "outputs": [],
   "source": [
    "# 4195 \n",
    "def trans_to_10(number: list, base: int) -> int:\n",
    "    # переводит из любой с.с. в 10 с.с.\n",
    "    s = 0\n",
    "    number = number[::-1]\n",
    "    for i in range(len(number)): \n",
    "        s += number[i] * base ** i\n",
    "    return s\n",
    "def trans10_to_any_base(number: int, base: int)->list: \n",
    "    # переводит из 10 с.с. в любую с.с.\n",
    "    result = []\n",
    "    while number > 0:\n",
    "        result.append(number % base)\n",
    "        number = number // base\n",
    "    return result[::-1]\n",
    "\n",
    "s = 7 * 512**1912 + 6 * 64**1954 - 5 * 8**1991 - 4 * 8**1980 - 2022\n",
    "result = trans10_to_any_base(s,8)\n",
    "print(result)\n",
    "print(result.count(7))\n",
    "                                        # count = 0\n",
    "                                        # while s!= 0:\n",
    "                                        #   s1 = str(s)\n",
    "                                        #   if \"7\" in s1:\n",
    "                                        #     count+=1\n",
    "                                        # print(count)"
   ]
  },
  {
   "cell_type": "code",
   "execution_count": null,
   "metadata": {},
   "outputs": [],
   "source": [
    "def trans_to_10(number: list, base: int) -> int:  \n",
    "    # переводит из любой с.с. в 10 с.с.\n",
    "    s = 0\n",
    "    number = number[::-1]\n",
    "    for i in range(len(number)): \n",
    "        s += number[i] * base ** i\n",
    "    return s\n",
    "\n",
    "def trans10_to_any_base(number: int, base: int)->list:\n",
    "    # переводит из 10 с.с. в любую с.с.\n",
    "    result = []\n",
    "    while number > 0:\n",
    "        result.append(number % base)\n",
    "        number = number // base\n",
    "    return result[::-1]\n",
    "# ЗАПОМНИТЬ ФУНКЦИИ"
   ]
  }
 ],
 "metadata": {
  "kernelspec": {
   "display_name": "Python 3",
   "language": "python",
   "name": "python3"
  },
  "language_info": {
   "codemirror_mode": {
    "name": "ipython",
    "version": 3
   },
   "file_extension": ".py",
   "mimetype": "text/x-python",
   "name": "python",
   "nbconvert_exporter": "python",
   "pygments_lexer": "ipython3",
   "version": "3.12.0"
  }
 },
 "nbformat": 4,
 "nbformat_minor": 2
}
